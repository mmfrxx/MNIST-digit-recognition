{
 "cells": [
  {
   "cell_type": "markdown",
   "metadata": {},
   "source": [
    "### Computer Vision Internship Program\n"
   ]
  },
  {
   "cell_type": "markdown",
   "metadata": {},
   "source": [
    "\n",
    "#### Practical Task description:\n",
    "Your task is to write to a pipeline to classify images from MNIST dataset\n",
    "(http://yann.lecun.com/exdb/mnist/)  using Neural Networks!\n",
    "\n"
   ]
  },
  {
   "cell_type": "markdown",
   "metadata": {},
   "source": [
    "![alt text](mnist.png \"Title\")"
   ]
  },
  {
   "cell_type": "markdown",
   "metadata": {},
   "source": [
    "\n",
    "##### To complete this task, you will have to implement the following steps:\n",
    "<br> 1. Download and read the data - 10 points\n",
    "<br> 2. Show how you use augmentation functions. To get the points, visualize the original image vs augmented image using 4 augmentation techniques of your choice - 10 points\n",
    "<br> 3. Implement a Neural Network which classifies given images. You can use any deep learning framework - 10 points\n",
    "<br> 4. Implement a training procedure using your dataloader, augmentation functions and neural network - 10 points\n",
    "<br> 5. Plot loss graph - 10 points\n",
    "<br> 6. Print accuracy of your model on test set -  10 points\n",
    "<br> 7. Show us how your model works! Plot a few input images and corresponding predictions of your model - 10 points\n",
    "\n",
    "##### Main points:\n",
    "<br> *- implement your work in provided jupyter notebook \n",
    "<br> - you can use any framework \n",
    "<br> - we are not too strict about the requirements: if your work corresponds to the task wording, the chances are you will get the full points*\n",
    "\n",
    "\n",
    "If you have any questions, please mail to:\n",
    "olzhas.kabdolov@btsdigital.kz and rustem.burkhanov@btsdigital.kz \n",
    "\n",
    "\n",
    "\n",
    "####  Good luck and have fun!\n"
   ]
  },
  {
   "cell_type": "markdown",
   "metadata": {},
   "source": [
    "##### Task 1. Dataloader"
   ]
  },
  {
   "cell_type": "code",
   "execution_count": 165,
   "metadata": {},
   "outputs": [],
   "source": [
    "from numpy import mean\n",
    "from numpy import std\n",
    "import matplotlib.pyplot as plt\n",
    "from sklearn.model_selection import KFold\n",
    "from keras.datasets import mnist\n",
    "from keras.utils import to_categorical\n",
    "from keras.models import Sequential\n",
    "from keras.layers import Conv2D\n",
    "from keras.layers import MaxPooling2D\n",
    "from keras.layers import Dense\n",
    "from keras.layers import Flatten\n",
    "from keras.optimizers import SGD,Adam\n",
    "import random\n",
    "from scipy import ndarray\n",
    "import skimage as sk\n",
    "from skimage import transform\n",
    "from skimage import util\n",
    "from PIL import Image\n",
    "import numpy as np\n",
    " \n",
    "\n",
    "# load dataset\n",
    "(trainX, trainY), (testX, testY) = mnist.load_data()\n",
    "# reshape dataset to have a single channel\n",
    "train_X = trainX.reshape((trainX.shape[0], 28, 28, 1))\n",
    "test_X = testX.reshape((testX.shape[0], 28, 28, 1))\n",
    "# convert from integers to floats\n",
    "train_norm = train_X.astype('float32')\n",
    "test_norm = test_X.astype('float32')\n",
    "# normalize to range 0-1\n",
    "train_X = train_norm / 255.0\n",
    "test_X = test_norm / 255.0\n",
    "# one hot encode target values\n",
    "train_Y = to_categorical(trainY)\n",
    "test_Y = to_categorical(testY)\n",
    "\n",
    "\n"
   ]
  },
  {
   "cell_type": "markdown",
   "metadata": {},
   "source": [
    "##### Task 2. Augmentation"
   ]
  },
  {
   "cell_type": "code",
   "execution_count": 166,
   "metadata": {},
   "outputs": [
    {
     "name": "stdout",
     "output_type": "stream",
     "text": [
      "y = 2 original image\n"
     ]
    },
    {
     "data": {
      "image/png": "[encoded data removed]",
      "text/plain": [
       "<Figure size 432x288 with 1 Axes>"
      ]
     },
     "metadata": {
      "needs_background": "light"
     },
     "output_type": "display_data"
    }
   ],
   "source": [
    "def random_rotation(image):\n",
    "    # pick a random degree of rotation between 45% on the left and 45% on the right\n",
    "    random_degree = random.uniform(-45, 45)\n",
    "    return sk.transform.rotate(image, random_degree)\n",
    "\n",
    "def random_noise(image):\n",
    "    # add random noise to the image\n",
    "    return sk.util.random_noise(image)\n",
    "\n",
    "def horizontal_flip(image):\n",
    "    # horizontal flip doesn't need skimage, it's easy as flipping the image array of pixels !\n",
    "    return image[:, ::-1]\n",
    "def crop_image(image):\n",
    "    return image[5:23,5:23]\n",
    "#change the index if you want to see other pictures as well\n",
    "index = 5                \n",
    "image = trainX[index]\n",
    "plt.imshow(image)\n",
    "print (\"y = \" + str(np.squeeze(trainY[index]))+\" original image\")\n"
   ]
  },
  {
   "cell_type": "code",
   "execution_count": 167,
   "metadata": {
    "scrolled": true
   },
   "outputs": [
    {
     "name": "stdout",
     "output_type": "stream",
     "text": [
      "Rotated image\n"
     ]
    },
    {
     "data": {
      "image/png": "[encoded data removed]",
      "text/plain": [
       "<Figure size 432x288 with 1 Axes>"
      ]
     },
     "metadata": {
      "needs_background": "light"
     },
     "output_type": "display_data"
    }
   ],
   "source": [
    "image1 = random_rotation(image)\n",
    "plt.imshow(image1)\n",
    "print (\"Rotated image\")"
   ]
  },
  {
   "cell_type": "code",
   "execution_count": 168,
   "metadata": {
    "scrolled": true
   },
   "outputs": [
    {
     "name": "stdout",
     "output_type": "stream",
     "text": [
      "Noisy image\n"
     ]
    },
    {
     "data": {
      "image/png": "[encoded data removed]",
      "text/plain": [
       "<Figure size 432x288 with 1 Axes>"
      ]
     },
     "metadata": {
      "needs_background": "light"
     },
     "output_type": "display_data"
    }
   ],
   "source": [
    "image2 = random_noise(image)\n",
    "plt.imshow(image2)\n",
    "print (\"Noisy image\")"
   ]
  },
  {
   "cell_type": "code",
   "execution_count": 169,
   "metadata": {
    "scrolled": true
   },
   "outputs": [
    {
     "name": "stdout",
     "output_type": "stream",
     "text": [
      "Flipped image\n"
     ]
    },
    {
     "data": {
      "image/png": "[encoded data removed]",
      "text/plain": [
       "<Figure size 432x288 with 1 Axes>"
      ]
     },
     "metadata": {
      "needs_background": "light"
     },
     "output_type": "display_data"
    }
   ],
   "source": [
    "image3 = horizontal_flip(image)\n",
    "plt.imshow(image3)\n",
    "print (\"Flipped image\")"
   ]
  },
  {
   "cell_type": "code",
   "execution_count": 170,
   "metadata": {},
   "outputs": [
    {
     "name": "stdout",
     "output_type": "stream",
     "text": [
      "Cropped image\n"
     ]
    },
    {
     "data": {
      "image/png": "[encoded data removed]",
      "text/plain": [
       "<Figure size 432x288 with 1 Axes>"
      ]
     },
     "metadata": {
      "needs_background": "light"
     },
     "output_type": "display_data"
    }
   ],
   "source": [
    "image4 = crop_image(image)\n",
    "plt.imshow(image4)\n",
    "print (\"Cropped image\")"
   ]
  },
  {
   "cell_type": "markdown",
   "metadata": {},
   "source": [
    "##### Task 3. Neural Network"
   ]
  },
  {
   "cell_type": "code",
   "execution_count": 171,
   "metadata": {},
   "outputs": [],
   "source": [
    "\n",
    "model = Sequential()\n",
    "model.add(Conv2D(32, (3, 3), activation='relu', kernel_initializer='he_uniform', input_shape=(28, 28, 1)))\n",
    "model.add(MaxPooling2D((2, 2)))\n",
    "model.add(Conv2D(64, (3, 3), activation='relu', kernel_initializer='he_uniform'))\n",
    "model.add(Conv2D(64, (3, 3), activation='relu', kernel_initializer='he_uniform'))\n",
    "model.add(MaxPooling2D((2, 2)))\n",
    "model.add(Flatten())\n",
    "model.add(Dense(100, activation='relu', kernel_initializer='he_uniform'))\n",
    "model.add(Dense(10, activation='softmax'))\n",
    "# compile model\n",
    "opt = SGD(lr=0.01, momentum = 0.9)\n",
    "model.compile(optimizer=opt, loss='categorical_crossentropy', metrics=['accuracy'])\n",
    "    \n",
    "\n",
    "\n"
   ]
  },
  {
   "cell_type": "markdown",
   "metadata": {},
   "source": [
    "##### Task 4. Train loop"
   ]
  },
  {
   "cell_type": "code",
   "execution_count": 172,
   "metadata": {},
   "outputs": [],
   "source": [
    "\n",
    "    \n",
    "history = model.fit(train_X, train_Y, epochs=15, batch_size=64, validation_data=(test_X, test_Y), verbose=0)"
   ]
  },
  {
   "cell_type": "markdown",
   "metadata": {},
   "source": [
    "##### Task 5. Loss plot"
   ]
  },
  {
   "cell_type": "code",
   "execution_count": 173,
   "metadata": {},
   "outputs": [
    {
     "data": {
      "image/png": "[encoded data removed]",
      "text/plain": [
       "<Figure size 432x288 with 1 Axes>"
      ]
     },
     "metadata": {
      "needs_background": "light"
     },
     "output_type": "display_data"
    }
   ],
   "source": [
    "plt.title('Cross Entropy Loss')\n",
    "plt.plot(history.history['loss'], color='blue', label='train')\n",
    "pyplot.plot(history.history['val_loss'], color='orange', label='test')\n",
    "pyplot.show()"
   ]
  },
  {
   "cell_type": "markdown",
   "metadata": {},
   "source": [
    "##### Task 6. Test set accuracy"
   ]
  },
  {
   "cell_type": "code",
   "execution_count": 174,
   "metadata": {},
   "outputs": [
    {
     "name": "stdout",
     "output_type": "stream",
     "text": [
      "> 99.230\n"
     ]
    }
   ],
   "source": [
    "_, acc = model.evaluate(test_X, test_Y,batch_size = 64, verbose=0)\n",
    "print('> %.3f' % (acc * 100.0))"
   ]
  },
  {
   "cell_type": "markdown",
   "metadata": {},
   "source": [
    "##### Task 7. Inference"
   ]
  },
  {
   "cell_type": "code",
   "execution_count": 163,
   "metadata": {},
   "outputs": [
    {
     "name": "stdout",
     "output_type": "stream",
     "text": [
      "The number is 4 and it was predicted as[[9.4228685e-18 2.9953587e-13 1.5242753e-17 8.5482287e-17 9.9999988e-01\n",
      "  3.9197175e-16 1.7208132e-15 6.5139262e-13 1.5415425e-14 8.1747572e-08]] where the number is the index of maximum number in the output.\n"
     ]
    },
    {
     "data": {
      "image/png": "[encoded data removed]",
      "text/plain": [
       "<Figure size 432x288 with 1 Axes>"
      ]
     },
     "metadata": {
      "needs_background": "light"
     },
     "output_type": "display_data"
    }
   ],
   "source": [
    "\n",
    "\n",
    "test_image = test_X[4]\n",
    "test_image = np.reshape(test_image,(1,test_image.shape[0],test_image.shape[1],test_image.shape[2]))\n",
    "out = model.predict(test_image)\n",
    "\n",
    "plt.imshow(testX[4])\n",
    "print(\"The number is \"+ str(testY[4])+ \" and it was predicted as\" + str(out)+\\\n",
    "      \" where the number is the index of maximum number in the output.\")\n"
   ]
  },
  {
   "cell_type": "code",
   "execution_count": 164,
   "metadata": {},
   "outputs": [
    {
     "name": "stdout",
     "output_type": "stream",
     "text": [
      "The number is 1 and it was predicted as[[1.3356225e-08 9.9999952e-01 4.7655253e-09 4.2686247e-11 8.0384543e-09\n",
      "  4.5558882e-10 4.9205684e-10 1.3077143e-07 3.0947234e-07 4.5902107e-10]] where the number is the index of maximum number in the output.\n"
     ]
    },
    {
     "data": {
      "image/png": "[encoded data removed]",
      "text/plain": [
       "<Figure size 432x288 with 1 Axes>"
      ]
     },
     "metadata": {
      "needs_background": "light"
     },
     "output_type": "display_data"
    }
   ],
   "source": [
    "test_image = test_X[40]\n",
    "test_image = np.reshape(test_image,(1,test_image.shape[0],test_image.shape[1],test_image.shape[2]))\n",
    "out = model.predict(test_image,batch_size = 64)\n",
    "plt.imshow(testX[40])\n",
    "print(\"The number is \"+ str(testY[40])+ \" and it was predicted as\" + str(out)+\\\n",
    "      \" where the number is the index of maximum number in the output.\")\n"
   ]
  },
  {
   "cell_type": "code",
   "execution_count": null,
   "metadata": {},
   "outputs": [],
   "source": []
  }
 ],
 "metadata": {
  "kernelspec": {
   "display_name": "Python 3",
   "language": "python",
   "name": "python3"
  },
  "language_info": {
   "codemirror_mode": {
    "name": "ipython",
    "version": 3
   },
   "file_extension": ".py",
   "mimetype": "text/x-python",
   "name": "python",
   "nbconvert_exporter": "python",
   "pygments_lexer": "ipython3",
   "version": "3.7.3"
  }
 },
 "nbformat": 4,
 "nbformat_minor": 2
}
